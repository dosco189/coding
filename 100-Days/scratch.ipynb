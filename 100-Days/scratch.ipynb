{
 "cells": [
  {
   "cell_type": "code",
   "execution_count": 1,
   "metadata": {},
   "outputs": [
    {
     "name": "stdout",
     "output_type": "stream",
     "text": [
      "The Love Calculator is calculating your score...\n",
      "Your score is 40.\n"
     ]
    }
   ],
   "source": [
    "print(\"The Love Calculator is calculating your score...\")\n",
    "name1 = input() # What is your name?\n",
    "name2 = input() # What is their name?\n",
    "# 🚨 Don't change the code above 👆\n",
    "# Write your code below this line 👇\n",
    "name_one = name1.lower() \n",
    "name_two = name2.lower()\n",
    "score_1_true = name_one.count(\"t\") + name_one.count(\"r\") + name_one.count(\"u\") + name_one.count(\"e\") \n",
    "score_1_love = name_one.count(\"l\") + name_one.count(\"o\") + name_one.count(\"v\") + name_one.count(\"e\")\n",
    "score_2_true = name_two.count(\"t\") + name_two.count(\"r\") + name_two.count(\"u\") + name_two.count(\"e\")\n",
    "score_2_love = name_two.count(\"l\") + name_two.count(\"o\") + name_two.count(\"v\") + name_two.count(\"e\")\n",
    "\n",
    "score_true = int(score_1_true) + int(score_2_true)\n",
    "score_love = int(score_1_love) + int(score_2_love)\n",
    "\n",
    "score = str(score_true) + str(score_love)\n",
    "score = int(score)\n",
    "\n",
    "if score < 10 or score > 90:\n",
    "  print(f\"Your score is {score}, you go together like coke and mentos.\")\n",
    "elif 40 < score < 50:\n",
    "  print(f\"Your score is {score}, you are alright together.\")\n",
    "else:\n",
    "  print(f\"Your score is {score}.\")"
   ]
  },
  {
   "cell_type": "code",
   "execution_count": 7,
   "metadata": {},
   "outputs": [
    {
     "name": "stdout",
     "output_type": "stream",
     "text": [
      "A\n"
     ]
    }
   ],
   "source": [
    "name = \"Arth\"\n",
    "a = name[0]\n",
    "print(a)"
   ]
  }
 ],
 "metadata": {
  "kernelspec": {
   "display_name": "Python 3",
   "language": "python",
   "name": "python3"
  },
  "language_info": {
   "codemirror_mode": {
    "name": "ipython",
    "version": 3
   },
   "file_extension": ".py",
   "mimetype": "text/x-python",
   "name": "python",
   "nbconvert_exporter": "python",
   "pygments_lexer": "ipython3",
   "version": "3.11.2"
  }
 },
 "nbformat": 4,
 "nbformat_minor": 2
}
